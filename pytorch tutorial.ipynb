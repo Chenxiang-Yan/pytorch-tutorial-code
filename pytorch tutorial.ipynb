{
 "cells": [
  {
   "cell_type": "code",
   "execution_count": 2,
   "metadata": {},
   "outputs": [],
   "source": [
    "import torch\n",
    "from torch import nn\n",
    "from torch.utils.data import DataLoader\n",
    "from torchvision import datasets\n",
    "from torchvision.transforms import ToTensor"
   ]
  },
  {
   "cell_type": "markdown",
   "metadata": {},
   "source": [
    "# dataset & dataloader"
   ]
  },
  {
   "cell_type": "code",
   "execution_count": null,
   "metadata": {},
   "outputs": [
    {
     "name": "stdout",
     "output_type": "stream",
     "text": [
      "shape of X [N,C,H,W]:torch.Size([64, 1, 28, 28])\n",
      "shape of y:torch.Size([64])torch.int64\n"
     ]
    }
   ],
   "source": [
    "### Dataset Construction\n",
    "train_data = datasets.FashionMNIST(\n",
    "    root = \"data\",\n",
    "    train = True,\n",
    "    download = True,\n",
    "    transform = ToTensor()\n",
    ")\n",
    "test_data = datasets.FashionMNIST(\n",
    "    root = \"data\",\n",
    "    train = False,\n",
    "    download = True,\n",
    "    transform = ToTensor()\n",
    ")\n",
    "\n",
    "batch_size = 64\n",
    "\n",
    "### transform dataset to dataloader\n",
    "train_dataloader = DataLoader(train_data, batch_size=batch_size)\n",
    "test_dataloader = DataLoader(test_data, batch_size=batch_size)\n",
    "\n",
    "for X, y in test_dataloader:\n",
    "    print(f'shape of X [N,C,H,W]:{X.shape}')\n",
    "    print(f'shape of y:{y.shape}{y.dtype}')\n",
    "    break"
   ]
  },
  {
   "cell_type": "markdown",
   "metadata": {},
   "source": [
    "# model"
   ]
  },
  {
   "cell_type": "code",
   "execution_count": 5,
   "metadata": {},
   "outputs": [
    {
     "name": "stdout",
     "output_type": "stream",
     "text": [
      "using cuda device\n",
      "classification_nn(\n",
      "  (flatten): Flatten(start_dim=1, end_dim=-1)\n",
      "  (linear_relu_stack): Sequential(\n",
      "    (0): Linear(in_features=784, out_features=512, bias=True)\n",
      "    (1): ReLU()\n",
      "    (2): Linear(in_features=512, out_features=512, bias=True)\n",
      "    (3): ReLU()\n",
      "    (4): Linear(in_features=512, out_features=10, bias=True)\n",
      "  )\n",
      ")\n"
     ]
    }
   ],
   "source": [
    "# device\n",
    "if torch.cuda.is_available():\n",
    "    device = \"cuda\"\n",
    "else:\n",
    "    device = \"cpu\"\n",
    "print(f'using {device} device')\n",
    "\n",
    "### define the model\n",
    "class classification_nn(nn.Module):\n",
    "    def __init__(self):\n",
    "        super().__init__()\n",
    "        self.flatten = nn.Flatten()\n",
    "        self.linear_relu_stack = nn.Sequential(\n",
    "            nn.Linear(28 * 28, 512),\n",
    "            nn.ReLU(),\n",
    "            nn.Linear(512, 512),\n",
    "            nn.ReLU(),\n",
    "            nn.Linear(512, 10)\n",
    "        )\n",
    "\n",
    "    def forward(self, x):\n",
    "        x = self.flatten(x)\n",
    "        logits = self.linear_relu_stack(x)\n",
    "        return logits\n",
    "\n",
    "model = classification_nn().to(device)\n",
    "print(model)"
   ]
  },
  {
   "cell_type": "markdown",
   "metadata": {},
   "source": [
    "# optimizer & training"
   ]
  },
  {
   "cell_type": "code",
   "execution_count": null,
   "metadata": {},
   "outputs": [],
   "source": [
    "### loss function & optimizer\n",
    "loss_fn = nn.CrossEntropyLoss()\n",
    "optimizer = torch.optim.SGD(model.parameters(),lr = 1e-3)"
   ]
  },
  {
   "cell_type": "code",
   "execution_count": 10,
   "metadata": {},
   "outputs": [
    {
     "name": "stdout",
     "output_type": "stream",
     "text": [
      "epoch:0\n",
      "---------------------------------\n",
      "loss: 0.750900, [   64/60000]\n",
      "loss: 0.837612, [ 6464/60000]\n",
      "loss: 0.602436, [12864/60000]\n",
      "loss: 0.822067, [19264/60000]\n",
      "loss: 0.738139, [25664/60000]\n",
      "loss: 0.720804, [32064/60000]\n",
      "loss: 0.801757, [38464/60000]\n",
      "loss: 0.786390, [44864/60000]\n",
      "loss: 0.781527, [51264/60000]\n",
      "loss: 0.742884, [57664/60000]\n",
      "Test accuracy: 73.0%\n",
      "Avg loss: 0.743115\n",
      "\n",
      "epoch:1\n",
      "---------------------------------\n",
      "loss: 0.717341, [   64/60000]\n",
      "loss: 0.809637, [ 6464/60000]\n",
      "loss: 0.574584, [12864/60000]\n",
      "loss: 0.799627, [19264/60000]\n",
      "loss: 0.718950, [25664/60000]\n",
      "loss: 0.698396, [32064/60000]\n",
      "loss: 0.778265, [38464/60000]\n",
      "loss: 0.771614, [44864/60000]\n",
      "loss: 0.761615, [51264/60000]\n",
      "loss: 0.722102, [57664/60000]\n",
      "Test accuracy: 74.1%\n",
      "Avg loss: 0.722477\n",
      "\n",
      "epoch:2\n",
      "---------------------------------\n",
      "loss: 0.687770, [   64/60000]\n",
      "loss: 0.784272, [ 6464/60000]\n",
      "loss: 0.550359, [12864/60000]\n",
      "loss: 0.780306, [19264/60000]\n",
      "loss: 0.701963, [25664/60000]\n",
      "loss: 0.679348, [32064/60000]\n",
      "loss: 0.756382, [38464/60000]\n",
      "loss: 0.758194, [44864/60000]\n",
      "loss: 0.744165, [51264/60000]\n",
      "loss: 0.703179, [57664/60000]\n",
      "Test accuracy: 75.0%\n",
      "Avg loss: 0.703833\n",
      "\n",
      "epoch:3\n",
      "---------------------------------\n",
      "loss: 0.661361, [   64/60000]\n",
      "loss: 0.761026, [ 6464/60000]\n",
      "loss: 0.529017, [12864/60000]\n",
      "loss: 0.763254, [19264/60000]\n",
      "loss: 0.686817, [25664/60000]\n",
      "loss: 0.663131, [32064/60000]\n",
      "loss: 0.735801, [38464/60000]\n",
      "loss: 0.746059, [44864/60000]\n",
      "loss: 0.728830, [51264/60000]\n",
      "loss: 0.685931, [57664/60000]\n",
      "Test accuracy: 75.8%\n",
      "Avg loss: 0.686863\n",
      "\n",
      "epoch:4\n",
      "---------------------------------\n",
      "loss: 0.637746, [   64/60000]\n",
      "loss: 0.739673, [ 6464/60000]\n",
      "loss: 0.510207, [12864/60000]\n",
      "loss: 0.747978, [19264/60000]\n",
      "loss: 0.673306, [25664/60000]\n",
      "loss: 0.649196, [32064/60000]\n",
      "loss: 0.716482, [38464/60000]\n",
      "loss: 0.735088, [44864/60000]\n",
      "loss: 0.715255, [51264/60000]\n",
      "loss: 0.670187, [57664/60000]\n",
      "Test accuracy: 76.4%\n",
      "Avg loss: 0.671330\n",
      "\n",
      "epoch:5\n",
      "---------------------------------\n",
      "loss: 0.616506, [   64/60000]\n",
      "loss: 0.720011, [ 6464/60000]\n",
      "loss: 0.493595, [12864/60000]\n",
      "loss: 0.734083, [19264/60000]\n",
      "loss: 0.661232, [25664/60000]\n",
      "loss: 0.637077, [32064/60000]\n",
      "loss: 0.698322, [38464/60000]\n",
      "loss: 0.725043, [44864/60000]\n",
      "loss: 0.703364, [51264/60000]\n",
      "loss: 0.655657, [57664/60000]\n",
      "Test accuracy: 77.0%\n",
      "Avg loss: 0.657086\n",
      "\n",
      "epoch:6\n",
      "---------------------------------\n",
      "loss: 0.597436, [   64/60000]\n",
      "loss: 0.701892, [ 6464/60000]\n",
      "loss: 0.478692, [12864/60000]\n",
      "loss: 0.721386, [19264/60000]\n",
      "loss: 0.650293, [25664/60000]\n",
      "loss: 0.626456, [32064/60000]\n",
      "loss: 0.681300, [38464/60000]\n",
      "loss: 0.716022, [44864/60000]\n",
      "loss: 0.693038, [51264/60000]\n",
      "loss: 0.642296, [57664/60000]\n",
      "Test accuracy: 77.6%\n",
      "Avg loss: 0.644021\n",
      "\n",
      "epoch:7\n",
      "---------------------------------\n",
      "loss: 0.580276, [   64/60000]\n",
      "loss: 0.685333, [ 6464/60000]\n",
      "loss: 0.465316, [12864/60000]\n",
      "loss: 0.709731, [19264/60000]\n",
      "loss: 0.640377, [25664/60000]\n",
      "loss: 0.617149, [32064/60000]\n",
      "loss: 0.665506, [38464/60000]\n",
      "loss: 0.708000, [44864/60000]\n",
      "loss: 0.684161, [51264/60000]\n",
      "loss: 0.629934, [57664/60000]\n",
      "Test accuracy: 78.0%\n",
      "Avg loss: 0.632040\n",
      "\n",
      "epoch:8\n",
      "---------------------------------\n",
      "loss: 0.564759, [   64/60000]\n",
      "loss: 0.670169, [ 6464/60000]\n",
      "loss: 0.453231, [12864/60000]\n",
      "loss: 0.698918, [19264/60000]\n",
      "loss: 0.631350, [25664/60000]\n",
      "loss: 0.608856, [32064/60000]\n",
      "loss: 0.650816, [38464/60000]\n",
      "loss: 0.700976, [44864/60000]\n",
      "loss: 0.676581, [51264/60000]\n",
      "loss: 0.618469, [57664/60000]\n",
      "Test accuracy: 78.4%\n",
      "Avg loss: 0.621061\n",
      "\n",
      "epoch:9\n",
      "---------------------------------\n",
      "loss: 0.550685, [   64/60000]\n",
      "loss: 0.656277, [ 6464/60000]\n",
      "loss: 0.442286, [12864/60000]\n",
      "loss: 0.688838, [19264/60000]\n",
      "loss: 0.623074, [25664/60000]\n",
      "loss: 0.601415, [32064/60000]\n",
      "loss: 0.637151, [38464/60000]\n",
      "loss: 0.694951, [44864/60000]\n",
      "loss: 0.670106, [51264/60000]\n",
      "loss: 0.607690, [57664/60000]\n",
      "Test accuracy: 78.8%\n",
      "Avg loss: 0.610995\n",
      "\n",
      "Done!\n"
     ]
    }
   ],
   "source": [
    "### training and test\n",
    "def train(dataloader, model, loss_fn, optimizer):\n",
    "    size = len(dataloader.dataset)\n",
    "    model.train()\n",
    "\n",
    "    # load data in each for iteration\n",
    "    for batch, (X, y) in enumerate(dataloader):\n",
    "        X, y = X.to(device), y.to(device)\n",
    "\n",
    "        # forward pass\n",
    "        pred = model(X)\n",
    "        loss = loss_fn(pred, y)\n",
    "\n",
    "        # backward propagation\n",
    "        loss.backward()\n",
    "        optimizer.step()\n",
    "        optimizer.zero_grad()\n",
    "\n",
    "        # log training process\n",
    "        if batch % 100 == 0:\n",
    "            loss, current = loss.item(), (batch + 1) * len(X)\n",
    "            print(f'loss: {loss:>8f}, [{current:>5d}/{size:>5d}]')\n",
    "\n",
    "def test(dataloader, model, loss_fn):\n",
    "    size = len(dataloader.dataset)\n",
    "    num_batches = len(dataloader)\n",
    "    model.eval()\n",
    "\n",
    "    test_loss, correct = 0, 0\n",
    "    # no need to calculate gradient\n",
    "    with torch.no_grad():\n",
    "        for X, y in dataloader:\n",
    "            X, y = X.to(device), y.to(device)\n",
    "            pred = model(X)\n",
    "            test_loss += loss_fn(pred, y).item()\n",
    "            correct += (pred.argmax(1) == y).sum().item()\n",
    "        \n",
    "        test_loss /= num_batches\n",
    "        correct /= size\n",
    "        \n",
    "        print(f'Test accuracy: {correct * 100:>0.1f}%\\nAvg loss: {test_loss:>8f}\\n')\n",
    "\n",
    "### train & evaluate for several epoches\n",
    "epochs = 10\n",
    "for epoch in range(epochs):\n",
    "    print(f'epoch:{epoch}\\n---------------------------------')\n",
    "    train(train_dataloader, model, loss_fn, optimizer)\n",
    "    test(test_dataloader, model, loss_fn)\n",
    "print('Done!')"
   ]
  },
  {
   "cell_type": "markdown",
   "metadata": {},
   "source": [
    "# save & load models"
   ]
  },
  {
   "cell_type": "code",
   "execution_count": 11,
   "metadata": {},
   "outputs": [
    {
     "name": "stdout",
     "output_type": "stream",
     "text": [
      "save model to model.pth\n"
     ]
    },
    {
     "data": {
      "text/plain": [
       "<All keys matched successfully>"
      ]
     },
     "execution_count": 11,
     "metadata": {},
     "output_type": "execute_result"
    }
   ],
   "source": [
    "### save model parameters (but not structure)\n",
    "save_path = 'model.pth'\n",
    "torch.save(model.state_dict(), save_path)\n",
    "print(f'save model to {save_path}')\n",
    "\n",
    "### load model\n",
    "model = classification_nn().to(device)\n",
    "model.load_state_dict(torch.load(save_path, weights_only=True))"
   ]
  },
  {
   "cell_type": "markdown",
   "metadata": {},
   "source": [
    "# evaluate"
   ]
  },
  {
   "cell_type": "code",
   "execution_count": 20,
   "metadata": {},
   "outputs": [
    {
     "name": "stdout",
     "output_type": "stream",
     "text": [
      "model prediction: Ankle boot\tground truth: Ankle boot\n"
     ]
    }
   ],
   "source": [
    "classes = [\n",
    "    \"T-shirt/top\",\n",
    "    \"Trouser\",\n",
    "    \"Pullover\",\n",
    "    \"Dress\",\n",
    "    \"Coat\",\n",
    "    \"Sandal\",\n",
    "    \"Shirt\",\n",
    "    \"Sneaker\",\n",
    "    \"Bag\",\n",
    "    \"Ankle boot\",\n",
    "]\n",
    "\n",
    "with torch.no_grad():\n",
    "    model.eval()\n",
    "    x, y = test_data[0][0], test_data[0][1]\n",
    "    x = x.to(device)\n",
    "    pred = model(x)\n",
    "    print(f'model prediction: {classes[pred[0].argmax(0)]}\\tground truth: {classes[y]}')"
   ]
  }
 ],
 "metadata": {
  "kernelspec": {
   "display_name": "pytorch_tutorial",
   "language": "python",
   "name": "python3"
  },
  "language_info": {
   "codemirror_mode": {
    "name": "ipython",
    "version": 3
   },
   "file_extension": ".py",
   "mimetype": "text/x-python",
   "name": "python",
   "nbconvert_exporter": "python",
   "pygments_lexer": "ipython3",
   "version": "3.11.10"
  }
 },
 "nbformat": 4,
 "nbformat_minor": 2
}
